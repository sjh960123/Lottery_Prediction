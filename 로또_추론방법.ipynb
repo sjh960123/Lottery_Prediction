{
 "cells": [
  {
   "cell_type": "code",
   "execution_count": 1,
   "metadata": {
    "_cell_guid": "b1076dfc-b9ad-4769-8c92-a6c4dae69d19",
    "_uuid": "8f2839f25d086af736a60e9eeb907d3b93b6e0e5",
    "colab": {
     "base_uri": "https://localhost:8080/"
    },
    "execution": {
     "iopub.execute_input": "2020-08-23T13:07:41.110522Z",
     "iopub.status.busy": "2020-08-23T13:07:41.109668Z",
     "iopub.status.idle": "2020-08-23T13:07:48.435728Z",
     "shell.execute_reply": "2020-08-23T13:07:48.436348Z"
    },
    "id": "EybCO8s9wnZS",
    "outputId": "4cd69392-35da-4e90-cca5-765443268703",
    "papermill": {
     "duration": 7.347426,
     "end_time": "2020-08-23T13:07:48.436533",
     "exception": false,
     "start_time": "2020-08-23T13:07:41.089107",
     "status": "completed"
    },
    "tags": []
   },
   "outputs": [
    {
     "name": "stdout",
     "output_type": "stream",
     "text": [
      "Tensorflow version 2.4.1\n"
     ]
    }
   ],
   "source": [
    "import gc\n",
    "import os\n",
    "import math\n",
    "import numpy as np\n",
    "import pandas as pd\n",
    "from numba import njit\n",
    "from numpy import sqrt, sin, cos, pi, zeros\n",
    "from numpy.random import randn, rand, uniform, normal\n",
    "from scipy.linalg import hadamard\n",
    "import tensorflow as tf\n",
    "from tensorflow.keras.utils import plot_model\n",
    "from tensorflow.keras.models import Model, Sequential\n",
    "from tensorflow.keras.layers import Input, Dense, Activation, LSTM, Dropout, RepeatVector, TimeDistributed, Embedding, Reshape, Dot, Concatenate\n",
    "from tensorflow.keras.layers import GRU, SpatialDropout1D, Conv1D, GlobalMaxPooling1D,Multiply, Lambda, Softmax, Flatten, BatchNormalization, Bidirectional, dot, concatenate\n",
    "from tensorflow.keras.layers import AdditiveAttention, Attention\n",
    "from tensorflow.keras.activations import relu\n",
    "from tensorflow.keras.optimizers import Adam\n",
    "from tensorflow.keras import callbacks\n",
    "from tensorflow.keras import backend\n",
    "from tensorflow.keras.utils import plot_model\n",
    "from tensorflow.keras.metrics import MeanSquaredError\n",
    "from sklearn.preprocessing import StandardScaler\n",
    "import matplotlib.pyplot as plt\n",
    "from tqdm.notebook import tqdm\n",
    "\n",
    "print(\"Tensorflow version \" + tf.__version__)\n",
    "AUTO = tf.data.experimental.AUTOTUNE"
   ]
  },
  {
   "cell_type": "markdown",
   "metadata": {
    "id": "uEjNglFAwnZX",
    "papermill": {
     "duration": 0.007075,
     "end_time": "2020-08-23T13:07:48.451817",
     "exception": false,
     "start_time": "2020-08-23T13:07:48.444742",
     "status": "completed"
    },
    "tags": []
   },
   "source": [
    "# Configurations"
   ]
  },
  {
   "cell_type": "code",
   "execution_count": 2,
   "metadata": {
    "colab": {
     "base_uri": "https://localhost:8080/"
    },
    "execution": {
     "iopub.execute_input": "2020-08-23T13:07:48.475146Z",
     "iopub.status.busy": "2020-08-23T13:07:48.474527Z",
     "iopub.status.idle": "2020-08-23T13:07:48.484827Z",
     "shell.execute_reply": "2020-08-23T13:07:48.485666Z"
    },
    "id": "ck82-RtJwnZX",
    "outputId": "5137247b-a2a1-47ac-dca4-c9c6ef35d96f",
    "papermill": {
     "duration": 0.026663,
     "end_time": "2020-08-23T13:07:48.485784",
     "exception": false,
     "start_time": "2020-08-23T13:07:48.459121",
     "status": "completed"
    },
    "tags": []
   },
   "outputs": [
    {
     "name": "stdout",
     "output_type": "stream",
     "text": [
      "REPLICAS:  1\n"
     ]
    }
   ],
   "source": [
    "# Detect hardware, return appropriate distribution strategy\n",
    "try:\n",
    "    tpu = tf.distribute.cluster_resolver.TPUClusterResolver()  # TPU detection. No parameters necessary if TPU_NAME environment variable is set. On Kaggle this is always the case.\n",
    "    print('Running on TPU ', tpu.master())\n",
    "except ValueError:\n",
    "    tpu = None\n",
    "\n",
    "if tpu:\n",
    "    tf.config.experimental_connect_to_cluster(tpu)\n",
    "    tf.tpu.experimental.initialize_tpu_system(tpu)\n",
    "    strategy = tf.distribute.experimental.TPUStrategy(tpu)\n",
    "else:\n",
    "    strategy = tf.distribute.get_strategy() # default distribution strategy in Tensorflow. Works on CPU and single GPU.\n",
    "\n",
    "print(\"REPLICAS: \", strategy.num_replicas_in_sync)"
   ]
  },
  {
   "cell_type": "code",
   "execution_count": 3,
   "metadata": {
    "colab": {
     "base_uri": "https://localhost:8080/"
    },
    "execution": {
     "iopub.execute_input": "2020-08-23T13:07:48.507723Z",
     "iopub.status.busy": "2020-08-23T13:07:48.507074Z",
     "iopub.status.idle": "2020-08-23T13:07:48.509818Z",
     "shell.execute_reply": "2020-08-23T13:07:48.510338Z"
    },
    "id": "dexigtVXwnZY",
    "outputId": "1c704e06-aeb1-4491-83cf-029289eadf10",
    "papermill": {
     "duration": 0.017327,
     "end_time": "2020-08-23T13:07:48.510448",
     "exception": false,
     "start_time": "2020-08-23T13:07:48.493121",
     "status": "completed"
    },
    "tags": []
   },
   "outputs": [
    {
     "name": "stdout",
     "output_type": "stream",
     "text": [
      "Accelerated Linear Algebra enabled\n"
     ]
    }
   ],
   "source": [
    "MIXED_PRECISION = False\n",
    "XLA_ACCELERATE = True\n",
    "\n",
    "if MIXED_PRECISION:\n",
    "    from tensorflow.keras.mixed_precision import experimental as mixed_precision\n",
    "    if tpu: policy = tf.keras.mixed_precision.experimental.Policy('mixed_bfloat16')\n",
    "    else: policy = tf.keras.mixed_precision.experimental.Policy('mixed_float16')\n",
    "    mixed_precision.set_policy(policy)\n",
    "    print('Mixed precision enabled')\n",
    "\n",
    "if XLA_ACCELERATE:\n",
    "    tf.config.optimizer.set_jit(True)\n",
    "    print('Accelerated Linear Algebra enabled')"
   ]
  },
  {
   "cell_type": "markdown",
   "metadata": {
    "id": "jMaK5xW1wnZY",
    "papermill": {
     "duration": 0.00727,
     "end_time": "2020-08-23T13:07:48.525396",
     "exception": false,
     "start_time": "2020-08-23T13:07:48.518126",
     "status": "completed"
    },
    "tags": []
   },
   "source": [
    "# Read Data"
   ]
  },
  {
   "cell_type": "code",
   "execution_count": 4,
   "metadata": {
    "colab": {
     "base_uri": "https://localhost:8080/",
     "height": 76,
     "resources": {
      "http://localhost:8080/nbextensions/google.colab/files.js": {
       "data": "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",
       "headers": [
        [
         "content-type",
         "application/javascript"
        ]
       ],
       "ok": true,
       "status": 200,
       "status_text": ""
      }
     }
    },
    "id": "RvWDswLCwqxR",
    "outputId": "4e14b2ac-8a7f-40e8-f7d7-b3cdb66e8073"
   },
   "outputs": [
    {
     "data": {
      "text/html": [
       "\n",
       "     <input type=\"file\" id=\"files-e430b2aa-fb96-48ac-9f06-022f6fbcf9f9\" name=\"files[]\" multiple disabled\n",
       "        style=\"border:none\" />\n",
       "     <output id=\"result-e430b2aa-fb96-48ac-9f06-022f6fbcf9f9\">\n",
       "      Upload widget is only available when the cell has been executed in the\n",
       "      current browser session. Please rerun this cell to enable.\n",
       "      </output>\n",
       "      <script src=\"/nbextensions/google.colab/files.js\"></script> "
      ],
      "text/plain": [
       "<IPython.core.display.HTML object>"
      ]
     },
     "metadata": {
      "tags": []
     },
     "output_type": "display_data"
    },
    {
     "name": "stdout",
     "output_type": "stream",
     "text": [
      "Saving lottery_final3.csv to lottery_final3.csv\n"
     ]
    }
   ],
   "source": [
    "from google.colab import files\n",
    "my_file=files.upload()"
   ]
  },
  {
   "cell_type": "code",
   "execution_count": 5,
   "metadata": {
    "_kg_hide-output": false,
    "colab": {
     "base_uri": "https://localhost:8080/"
    },
    "execution": {
     "iopub.execute_input": "2020-08-23T13:07:48.547859Z",
     "iopub.status.busy": "2020-08-23T13:07:48.547112Z",
     "iopub.status.idle": "2020-08-23T13:07:48.570927Z",
     "shell.execute_reply": "2020-08-23T13:07:48.570358Z"
    },
    "id": "nXptyrx5wnZY",
    "outputId": "3f3740ae-1ded-4a5f-e6c0-bf5ed06411e6",
    "papermill": {
     "duration": 0.038252,
     "end_time": "2020-08-23T13:07:48.571015",
     "exception": false,
     "start_time": "2020-08-23T13:07:48.532763",
     "status": "completed"
    },
    "tags": []
   },
   "outputs": [
    {
     "name": "stdout",
     "output_type": "stream",
     "text": [
      "           ball1  ball2  ball3  ball4  ball5  ball6  Bonus\n",
      "Date                                                      \n",
      "02.12.07      10     23     29     33     37     40     16\n",
      "02.12.14       9     13     21     25     32     42      2\n",
      "02.12.21      11     16     19     21     27     31     30\n",
      "02.12.28      14     27     30     31     40     42      2\n",
      "03.01.04      16     24     29     40     41     42      3\n",
      "...          ...    ...    ...    ...    ...    ...    ...\n",
      "20.08.29      10     16     18     20     25     31      6\n",
      "20.09.05       4     15     22     38     41     43     26\n",
      "20.09.12       3      4     10     20     28     44     30\n",
      "20.09.19       7      9     12     15     19     23      4\n",
      "20.09.26       8     21     25     38     39     44     28\n",
      "\n",
      "[930 rows x 7 columns]\n"
     ]
    }
   ],
   "source": [
    "import io\n",
    "lotto = pd.read_csv(io.BytesIO(my_file['lottery_final3.csv']), index_col = 'Date')\n",
    "print(lotto)"
   ]
  },
  {
   "cell_type": "markdown",
   "metadata": {
    "id": "YM7wbEXhwnZY",
    "papermill": {
     "duration": 0.007323,
     "end_time": "2020-08-23T13:07:48.585907",
     "exception": false,
     "start_time": "2020-08-23T13:07:48.578584",
     "status": "completed"
    },
    "tags": []
   },
   "source": [
    "# Train Test Split\n",
    "Use the last 50 draws as the test dataset\n",
    "Use a sliding window of 10 to split the input data"
   ]
  },
  {
   "cell_type": "code",
   "execution_count": 6,
   "metadata": {
    "execution": {
     "iopub.execute_input": "2020-08-23T13:07:48.612118Z",
     "iopub.status.busy": "2020-08-23T13:07:48.611248Z",
     "iopub.status.idle": "2020-08-23T13:07:48.616055Z",
     "shell.execute_reply": "2020-08-23T13:07:48.615598Z"
    },
    "id": "g_BQi_gDwnZZ",
    "papermill": {
     "duration": 0.022633,
     "end_time": "2020-08-23T13:07:48.616146",
     "exception": false,
     "start_time": "2020-08-23T13:07:48.593513",
     "status": "completed"
    },
    "tags": []
   },
   "outputs": [],
   "source": [
    "data = lotto.values - 1\n",
    "train = data[:-50]\n",
    "test = data[-50:]\n",
    "\n",
    "w = 10\n",
    "X_train = []\n",
    "y_train = []\n",
    "for i in range(w, len(train)):\n",
    "    X_train.append(train[i - w: i, :])\n",
    "    y_train.append(train[i])\n",
    "X_train, y_train = np.array(X_train), np.array(y_train)\n",
    "\n",
    "inputs = data[data.shape[0] - test.shape[0] - w:]\n",
    "X_test = []\n",
    "for i in range(w, inputs.shape[0]):\n",
    "    X_test.append(inputs[i - w: i, :])\n",
    "X_test = np.array(X_test)\n",
    "y_test = test"
   ]
  },
  {
   "cell_type": "code",
   "execution_count": 7,
   "metadata": {
    "colab": {
     "base_uri": "https://localhost:8080/"
    },
    "execution": {
     "iopub.execute_input": "2020-08-23T13:07:48.637003Z",
     "iopub.status.busy": "2020-08-23T13:07:48.636204Z",
     "iopub.status.idle": "2020-08-23T13:07:48.639664Z",
     "shell.execute_reply": "2020-08-23T13:07:48.640177Z"
    },
    "id": "gv2BdARNwnZZ",
    "outputId": "7bba1ab5-ecb0-4255-943b-9064404733f5",
    "papermill": {
     "duration": 0.016695,
     "end_time": "2020-08-23T13:07:48.640342",
     "exception": false,
     "start_time": "2020-08-23T13:07:48.623647",
     "status": "completed"
    },
    "tags": []
   },
   "outputs": [
    {
     "name": "stdout",
     "output_type": "stream",
     "text": [
      "(930, 7)\n",
      "(870, 10, 7)\n",
      "(870, 7)\n",
      "(50, 10, 7)\n",
      "(50, 7)\n"
     ]
    }
   ],
   "source": [
    "print(data.shape)\n",
    "print(X_train.shape)\n",
    "print(y_train.shape)\n",
    "print(X_test.shape)\n",
    "print(y_test.shape)"
   ]
  },
  {
   "cell_type": "markdown",
   "metadata": {
    "id": "_SGqXRq5wnZZ",
    "papermill": {
     "duration": 0.007482,
     "end_time": "2020-08-23T13:07:48.655718",
     "exception": false,
     "start_time": "2020-08-23T13:07:48.648236",
     "status": "completed"
    },
    "tags": []
   },
   "source": [
    "# Seq2Seq Model to Predict Future Draws"
   ]
  },
  {
   "cell_type": "markdown",
   "metadata": {
    "id": "_Yg_lAeJwnZZ",
    "papermill": {
     "duration": 0.007473,
     "end_time": "2020-08-23T13:07:48.670980",
     "exception": false,
     "start_time": "2020-08-23T13:07:48.663507",
     "status": "completed"
    },
    "tags": []
   },
   "source": [
    "Input the last 10 draws and sequentially predict the next draw.\n",
    "Monitor the performance by sparse categorical crossentropy and sparse top k categorical accuracy."
   ]
  },
  {
   "cell_type": "code",
   "execution_count": 10,
   "metadata": {
    "execution": {
     "iopub.execute_input": "2020-08-23T13:07:48.691663Z",
     "iopub.status.busy": "2020-08-23T13:07:48.690926Z",
     "iopub.status.idle": "2020-08-23T13:07:48.693986Z",
     "shell.execute_reply": "2020-08-23T13:07:48.693457Z"
    },
    "id": "gQovAeG0wnZa",
    "papermill": {
     "duration": 0.015493,
     "end_time": "2020-08-23T13:07:48.694073",
     "exception": false,
     "start_time": "2020-08-23T13:07:48.678580",
     "status": "completed"
    },
    "tags": []
   },
   "outputs": [],
   "source": [
    "embed_dim = (45 // 2) + 1\n",
    "dropout_rate = 0.5\n",
    "spatial_dropout_rate = 0.5\n",
    "steps_before = w\n",
    "steps_after = 7\n",
    "feature_count = embed_dim * 7\n",
    "hidden_neurons = [64, 32] \n",
    "bidirectional = True \n",
    "attention_style = 'Bahdanau'"
   ]
  },
  {
   "cell_type": "code",
   "execution_count": 11,
   "metadata": {
    "execution": {
     "iopub.execute_input": "2020-08-23T13:07:48.739099Z",
     "iopub.status.busy": "2020-08-23T13:07:48.722282Z",
     "iopub.status.idle": "2020-08-23T13:07:53.753983Z",
     "shell.execute_reply": "2020-08-23T13:07:53.753010Z"
    },
    "id": "lbLB9KtdwnZa",
    "papermill": {
     "duration": 5.052233,
     "end_time": "2020-08-23T13:07:53.754117",
     "exception": false,
     "start_time": "2020-08-23T13:07:48.701884",
     "status": "completed"
    },
    "tags": []
   },
   "outputs": [],
   "source": [
    "with strategy.scope():\n",
    "    \n",
    "    inp0 = Input(shape = (w, X_train.shape[2]))\n",
    "    \n",
    "    # Embed 59 categories into a 30-dimension continuous-number vector for each ball\n",
    "    inp1 = Lambda(lambda x: x[:, :, 0])(inp0)\n",
    "    inp1 = Embedding(59, embed_dim)(inp1)\n",
    "    inp1 = SpatialDropout1D(spatial_dropout_rate)(inp1)\n",
    "    \n",
    "    inp2 = Lambda(lambda x: x[:, :, 1])(inp0)\n",
    "    inp2 = Embedding(59, embed_dim)(inp2)\n",
    "    inp2 = SpatialDropout1D(spatial_dropout_rate)(inp2)\n",
    "    \n",
    "    inp3 = Lambda(lambda x: x[:, :, 2])(inp0)\n",
    "    inp3 = Embedding(59, embed_dim)(inp3)\n",
    "    inp3 = SpatialDropout1D(spatial_dropout_rate)(inp3)\n",
    "    \n",
    "    inp4 = Lambda(lambda x: x[:, :, 3])(inp0)\n",
    "    inp4 = Embedding(59, embed_dim)(inp4)\n",
    "    inp4 = SpatialDropout1D(spatial_dropout_rate)(inp4)\n",
    "    \n",
    "    inp5 = Lambda(lambda x: x[:, :, 4])(inp0)\n",
    "    inp5 = Embedding(59, embed_dim)(inp5)\n",
    "    inp5 = SpatialDropout1D(spatial_dropout_rate)(inp5)    \n",
    "    \n",
    "    inp6 = Lambda(lambda x: x[:, :, 5])(inp0)\n",
    "    inp6 = Embedding(59, embed_dim)(inp6)\n",
    "    inp6 = SpatialDropout1D(spatial_dropout_rate)(inp6)\n",
    "    \n",
    "    inp7 = Lambda(lambda x: x[:, :, 6])(inp0)\n",
    "    inp7 = Embedding(59, embed_dim)(inp7)\n",
    "    inp7 = SpatialDropout1D(spatial_dropout_rate)(inp7)\n",
    "    \n",
    "    inp = Concatenate()([inp1, inp2, inp3, inp4, inp5, inp6, inp7])\n",
    "    \n",
    "    # Seq2Seq model with attention or bidirectional encoder\n",
    "    \n",
    "    num_layers = len(hidden_neurons)\n",
    "    \n",
    "    sh_list, h_list, c_list = [inp], [], []\n",
    "    \n",
    "    if bidirectional:\n",
    "        \n",
    "        for i in range(num_layers):\n",
    "    \n",
    "            sh, fh, fc, bh, bc = Bidirectional(LSTM(hidden_neurons[i],\n",
    "                                                    dropout = dropout_rate, \n",
    "                                                    return_state = True, \n",
    "                                                    return_sequences = True))(sh_list[-1])\n",
    "        \n",
    "            h = Concatenate()([fh, bh])\n",
    "            c = Concatenate()([fc, bc]) \n",
    "\n",
    "            sh_list.append(sh)\n",
    "            h_list.append(h)\n",
    "            c_list.append(c)\n",
    "        \n",
    "    else:\n",
    "    \n",
    "        for i in range(num_layers):\n",
    "\n",
    "            sh, h, c = LSTM(hidden_neurons[i], \n",
    "                            dropout = dropout_rate,\n",
    "                            return_state = True, \n",
    "                            return_sequences = True)(sh_list[-1])\n",
    "\n",
    "            sh_list.append(sh)\n",
    "            h_list.append(h)\n",
    "            c_list.append(c)\n",
    "    \n",
    "    decoder = RepeatVector(steps_after)(h_list[-1])\n",
    "    \n",
    "    if bidirectional:\n",
    "        \n",
    "        decoder_hidden_neurons = [hn * 2 for hn in hidden_neurons]\n",
    "        \n",
    "    else:\n",
    "        \n",
    "        decoder_hidden_neurons = hidden_neurons\n",
    "    \n",
    "    for i in range(num_layers):\n",
    "        \n",
    "        decoder = LSTM(decoder_hidden_neurons[i],\n",
    "                       dropout = dropout_rate, \n",
    "                       return_sequences = True)(decoder, initial_state = [h_list[i], c_list[i]])\n",
    "       \n",
    "    if attention_style == 'Bahdanau':\n",
    "        \n",
    "        context = AdditiveAttention(dropout = dropout_rate)([decoder, sh_list[-1]])\n",
    "        \n",
    "        decoder = concatenate([context, decoder])\n",
    "        \n",
    "    elif attention_style == 'Luong':\n",
    "        \n",
    "        context = Attention(dropout = dropout_rate)([decoder, sh_list[-1]])\n",
    "        \n",
    "        decoder = concatenate([context, decoder])\n",
    "    \n",
    "    out = Dense(59, activation = 'softmax')(decoder)\n",
    "\n",
    "    model = Model(inputs = inp0, outputs = out)\n",
    "    \n",
    "    sparse_top_k = tf.keras.metrics.SparseTopKCategoricalAccuracy(k = 5, name = 'sparse_top_k')\n",
    "\n",
    "    model.compile(optimizer = 'adam', loss = 'sparse_categorical_crossentropy', metrics = [sparse_top_k])"
   ]
  },
  {
   "cell_type": "code",
   "execution_count": 12,
   "metadata": {
    "colab": {
     "base_uri": "https://localhost:8080/"
    },
    "execution": {
     "iopub.execute_input": "2020-08-23T13:07:53.778516Z",
     "iopub.status.busy": "2020-08-23T13:07:53.777120Z",
     "iopub.status.idle": "2020-08-23T13:07:53.794513Z",
     "shell.execute_reply": "2020-08-23T13:07:53.795009Z"
    },
    "id": "OVji8YpAwnZa",
    "outputId": "594d7a65-8fea-4a79-eb2d-7f886e0e5bad",
    "papermill": {
     "duration": 0.032427,
     "end_time": "2020-08-23T13:07:53.795134",
     "exception": false,
     "start_time": "2020-08-23T13:07:53.762707",
     "status": "completed"
    },
    "tags": []
   },
   "outputs": [
    {
     "name": "stdout",
     "output_type": "stream",
     "text": [
      "Model: \"model\"\n",
      "__________________________________________________________________________________________________\n",
      "Layer (type)                    Output Shape         Param #     Connected to                     \n",
      "==================================================================================================\n",
      "input_1 (InputLayer)            [(None, 10, 7)]      0                                            \n",
      "__________________________________________________________________________________________________\n",
      "lambda (Lambda)                 (None, 10)           0           input_1[0][0]                    \n",
      "__________________________________________________________________________________________________\n",
      "lambda_1 (Lambda)               (None, 10)           0           input_1[0][0]                    \n",
      "__________________________________________________________________________________________________\n",
      "lambda_2 (Lambda)               (None, 10)           0           input_1[0][0]                    \n",
      "__________________________________________________________________________________________________\n",
      "lambda_3 (Lambda)               (None, 10)           0           input_1[0][0]                    \n",
      "__________________________________________________________________________________________________\n",
      "lambda_4 (Lambda)               (None, 10)           0           input_1[0][0]                    \n",
      "__________________________________________________________________________________________________\n",
      "lambda_5 (Lambda)               (None, 10)           0           input_1[0][0]                    \n",
      "__________________________________________________________________________________________________\n",
      "lambda_6 (Lambda)               (None, 10)           0           input_1[0][0]                    \n",
      "__________________________________________________________________________________________________\n",
      "embedding (Embedding)           (None, 10, 23)       1357        lambda[0][0]                     \n",
      "__________________________________________________________________________________________________\n",
      "embedding_1 (Embedding)         (None, 10, 23)       1357        lambda_1[0][0]                   \n",
      "__________________________________________________________________________________________________\n",
      "embedding_2 (Embedding)         (None, 10, 23)       1357        lambda_2[0][0]                   \n",
      "__________________________________________________________________________________________________\n",
      "embedding_3 (Embedding)         (None, 10, 23)       1357        lambda_3[0][0]                   \n",
      "__________________________________________________________________________________________________\n",
      "embedding_4 (Embedding)         (None, 10, 23)       1357        lambda_4[0][0]                   \n",
      "__________________________________________________________________________________________________\n",
      "embedding_5 (Embedding)         (None, 10, 23)       1357        lambda_5[0][0]                   \n",
      "__________________________________________________________________________________________________\n",
      "embedding_6 (Embedding)         (None, 10, 23)       1357        lambda_6[0][0]                   \n",
      "__________________________________________________________________________________________________\n",
      "spatial_dropout1d (SpatialDropo (None, 10, 23)       0           embedding[0][0]                  \n",
      "__________________________________________________________________________________________________\n",
      "spatial_dropout1d_1 (SpatialDro (None, 10, 23)       0           embedding_1[0][0]                \n",
      "__________________________________________________________________________________________________\n",
      "spatial_dropout1d_2 (SpatialDro (None, 10, 23)       0           embedding_2[0][0]                \n",
      "__________________________________________________________________________________________________\n",
      "spatial_dropout1d_3 (SpatialDro (None, 10, 23)       0           embedding_3[0][0]                \n",
      "__________________________________________________________________________________________________\n",
      "spatial_dropout1d_4 (SpatialDro (None, 10, 23)       0           embedding_4[0][0]                \n",
      "__________________________________________________________________________________________________\n",
      "spatial_dropout1d_5 (SpatialDro (None, 10, 23)       0           embedding_5[0][0]                \n",
      "__________________________________________________________________________________________________\n",
      "spatial_dropout1d_6 (SpatialDro (None, 10, 23)       0           embedding_6[0][0]                \n",
      "__________________________________________________________________________________________________\n",
      "concatenate (Concatenate)       (None, 10, 161)      0           spatial_dropout1d[0][0]          \n",
      "                                                                 spatial_dropout1d_1[0][0]        \n",
      "                                                                 spatial_dropout1d_2[0][0]        \n",
      "                                                                 spatial_dropout1d_3[0][0]        \n",
      "                                                                 spatial_dropout1d_4[0][0]        \n",
      "                                                                 spatial_dropout1d_5[0][0]        \n",
      "                                                                 spatial_dropout1d_6[0][0]        \n",
      "__________________________________________________________________________________________________\n",
      "bidirectional (Bidirectional)   [(None, 10, 128), (N 115712      concatenate[0][0]                \n",
      "__________________________________________________________________________________________________\n",
      "bidirectional_1 (Bidirectional) [(None, 10, 64), (No 41216       bidirectional[0][0]              \n",
      "__________________________________________________________________________________________________\n",
      "concatenate_3 (Concatenate)     (None, 64)           0           bidirectional_1[0][1]            \n",
      "                                                                 bidirectional_1[0][3]            \n",
      "__________________________________________________________________________________________________\n",
      "repeat_vector (RepeatVector)    (None, 7, 64)        0           concatenate_3[0][0]              \n",
      "__________________________________________________________________________________________________\n",
      "concatenate_1 (Concatenate)     (None, 128)          0           bidirectional[0][1]              \n",
      "                                                                 bidirectional[0][3]              \n",
      "__________________________________________________________________________________________________\n",
      "concatenate_2 (Concatenate)     (None, 128)          0           bidirectional[0][2]              \n",
      "                                                                 bidirectional[0][4]              \n",
      "__________________________________________________________________________________________________\n",
      "lstm_2 (LSTM)                   (None, 7, 128)       98816       repeat_vector[0][0]              \n",
      "                                                                 concatenate_1[0][0]              \n",
      "                                                                 concatenate_2[0][0]              \n",
      "__________________________________________________________________________________________________\n",
      "concatenate_4 (Concatenate)     (None, 64)           0           bidirectional_1[0][2]            \n",
      "                                                                 bidirectional_1[0][4]            \n",
      "__________________________________________________________________________________________________\n",
      "lstm_3 (LSTM)                   (None, 7, 64)        49408       lstm_2[0][0]                     \n",
      "                                                                 concatenate_3[0][0]              \n",
      "                                                                 concatenate_4[0][0]              \n",
      "__________________________________________________________________________________________________\n",
      "additive_attention (AdditiveAtt (None, 7, 64)        64          lstm_3[0][0]                     \n",
      "                                                                 bidirectional_1[0][0]            \n",
      "__________________________________________________________________________________________________\n",
      "concatenate_5 (Concatenate)     (None, 7, 128)       0           additive_attention[0][0]         \n",
      "                                                                 lstm_3[0][0]                     \n",
      "__________________________________________________________________________________________________\n",
      "dense (Dense)                   (None, 7, 59)        7611        concatenate_5[0][0]              \n",
      "==================================================================================================\n",
      "Total params: 322,326\n",
      "Trainable params: 322,326\n",
      "Non-trainable params: 0\n",
      "__________________________________________________________________________________________________\n"
     ]
    }
   ],
   "source": [
    "model.summary()"
   ]
  },
  {
   "cell_type": "code",
   "execution_count": 13,
   "metadata": {
    "colab": {
     "base_uri": "https://localhost:8080/",
     "height": 705
    },
    "execution": {
     "iopub.execute_input": "2020-08-23T13:07:53.835176Z",
     "iopub.status.busy": "2020-08-23T13:07:53.820676Z",
     "iopub.status.idle": "2020-08-23T13:07:54.599265Z",
     "shell.execute_reply": "2020-08-23T13:07:54.598691Z"
    },
    "id": "UfpNj8y3wnZb",
    "outputId": "77011e2d-3330-458f-f5fd-25d0e7b29fe3",
    "papermill": {
     "duration": 0.791207,
     "end_time": "2020-08-23T13:07:54.599391",
     "exception": false,
     "start_time": "2020-08-23T13:07:53.808184",
     "status": "completed"
    },
    "tags": []
   },
   "outputs": [
    {
     "data": {
      "image/png": "[encoded data removed]",
      "text/plain": [
       "<IPython.core.display.Image object>"
      ]
     },
     "execution_count": 13,
     "metadata": {
      "tags": []
     },
     "output_type": "execute_result"
    }
   ],
   "source": [
    "plot_model(model, show_shapes = True, show_layer_names = True, rankdir = 'TB', dpi = 60)"
   ]
  },
  {
   "cell_type": "code",
   "execution_count": 14,
   "metadata": {
    "execution": {
     "iopub.execute_input": "2020-08-23T13:07:54.632334Z",
     "iopub.status.busy": "2020-08-23T13:07:54.630630Z",
     "iopub.status.idle": "2020-08-23T13:07:54.633161Z",
     "shell.execute_reply": "2020-08-23T13:07:54.633643Z"
    },
    "id": "9D2loXn0wnZb",
    "papermill": {
     "duration": 0.024496,
     "end_time": "2020-08-23T13:07:54.633755",
     "exception": false,
     "start_time": "2020-08-23T13:07:54.609259",
     "status": "completed"
    },
    "tags": []
   },
   "outputs": [],
   "source": [
    "class CosineAnnealingScheduler(callbacks.Callback):\n",
    "    \"\"\"Cosine annealing scheduler.\n",
    "    \"\"\"\n",
    "\n",
    "    def __init__(self, T_max, eta_max, eta_min = 0, verbose = 0):\n",
    "        super(CosineAnnealingScheduler, self).__init__()\n",
    "        self.T_max = T_max\n",
    "        self.eta_max = eta_max\n",
    "        self.eta_min = eta_min\n",
    "        self.verbose = verbose\n",
    "\n",
    "    def on_epoch_begin(self, epoch, logs = None):\n",
    "        if not hasattr(self.model.optimizer, 'lr'):\n",
    "            raise ValueError('Optimizer must have a \"lr\" attribute.')\n",
    "        lr = self.eta_min + (self.eta_max - self.eta_min) * (1 + math.cos(math.pi * epoch / self.T_max)) / 2\n",
    "        backend.set_value(self.model.optimizer.lr, lr)\n",
    "        if self.verbose > 0:\n",
    "            print('\\nEpoch %05d: CosineAnnealingScheduler setting learning '\n",
    "                  'rate to %s.' % (epoch + 1, lr))\n",
    "\n",
    "    def on_epoch_end(self, epoch, logs = None):\n",
    "        logs = logs or {}\n",
    "        logs['lr'] = backend.get_value(self.model.optimizer.lr)"
   ]
  },
  {
   "cell_type": "code",
   "execution_count": null,
   "metadata": {
    "_kg_hide-output": true,
    "colab": {
     "base_uri": "https://localhost:8080/"
    },
    "execution": {
     "iopub.execute_input": "2020-08-23T13:07:54.661541Z",
     "iopub.status.busy": "2020-08-23T13:07:54.660828Z",
     "iopub.status.idle": "2020-08-23T13:09:29.465460Z",
     "shell.execute_reply": "2020-08-23T13:09:29.466171Z"
    },
    "id": "hWqbdVowwnZb",
    "outputId": "d745c661-ef84-410d-a494-43390c434342",
    "papermill": {
     "duration": 94.823375,
     "end_time": "2020-08-23T13:09:29.466419",
     "exception": false,
     "start_time": "2020-08-23T13:07:54.643044",
     "status": "completed"
    },
    "tags": []
   },
   "outputs": [
    {
     "name": "stdout",
     "output_type": "stream",
     "text": [
      "Epoch 1/200\n",
      "28/28 - 48s - loss: 4.0748 - sparse_top_k: 0.1036 - val_loss: 4.0707 - val_sparse_top_k: 0.1200\n",
      "Epoch 2/200\n",
      "28/28 - 5s - loss: 4.0662 - sparse_top_k: 0.1292 - val_loss: 4.0586 - val_sparse_top_k: 0.1486\n",
      "Epoch 3/200\n",
      "28/28 - 1s - loss: 4.0458 - sparse_top_k: 0.1415 - val_loss: 4.0205 - val_sparse_top_k: 0.1571\n",
      "Epoch 4/200\n"
     ]
    }
   ],
   "source": [
    "EPOCHS = 200\n",
    "BATCH_SIZE = 32\n",
    "LR_MAX = 1e-4\n",
    "LR_MIN = 1e-5\n",
    "\n",
    "cas = CosineAnnealingScheduler(EPOCHS, LR_MAX, LR_MIN)\n",
    "\n",
    "ckp = callbacks.ModelCheckpoint('best_model.hdf5', monitor = 'val_sparse_top_k', verbose = 0, \n",
    "                                save_best_only = True, save_weights_only = False, mode = 'max')\n",
    "\n",
    "history = model.fit(X_train, y_train, \n",
    "                    validation_data = (X_test, y_test), \n",
    "                    callbacks = [ckp, cas], \n",
    "                    epochs = EPOCHS, \n",
    "                    batch_size = BATCH_SIZE, \n",
    "                    verbose = 2)\n",
    "\n",
    "hist = pd.DataFrame(history.history)"
   ]
  },
  {
   "cell_type": "code",
   "execution_count": null,
   "metadata": {
    "execution": {
     "iopub.execute_input": "2020-08-23T13:09:29.540096Z",
     "iopub.status.busy": "2020-08-23T13:09:29.539513Z",
     "iopub.status.idle": "2020-08-23T13:09:30.136666Z",
     "shell.execute_reply": "2020-08-23T13:09:30.137318Z"
    },
    "id": "HSaUAwYNwnZc",
    "papermill": {
     "duration": 0.636833,
     "end_time": "2020-08-23T13:09:30.137488",
     "exception": false,
     "start_time": "2020-08-23T13:09:29.500655",
     "status": "completed"
    },
    "tags": []
   },
   "outputs": [],
   "source": [
    "print(hist['val_sparse_top_k'].max())\n",
    "\n",
    "plt.figure(figsize = (8, 6))\n",
    "plt.semilogy(hist['sparse_top_k'], '-r', label = 'Training')\n",
    "plt.semilogy(hist['val_sparse_top_k'], '-b', label = 'Validation')\n",
    "plt.ylabel('Sparse Top K Accuracy', fontsize = 14)\n",
    "plt.xlabel('Epochs', fontsize = 14)\n",
    "plt.legend(fontsize = 14)\n",
    "plt.grid()\n",
    "plt.show()"
   ]
  },
  {
   "cell_type": "markdown",
   "metadata": {
    "id": "mt8nTdIYwnZc",
    "papermill": {
     "duration": 0.03203,
     "end_time": "2020-08-23T13:09:30.202579",
     "exception": false,
     "start_time": "2020-08-23T13:09:30.170549",
     "status": "completed"
    },
    "tags": []
   },
   "source": [
    "# Predict the Test Dataset"
   ]
  },
  {
   "cell_type": "code",
   "execution_count": null,
   "metadata": {
    "execution": {
     "iopub.execute_input": "2020-08-23T13:09:30.287097Z",
     "iopub.status.busy": "2020-08-23T13:09:30.276936Z",
     "iopub.status.idle": "2020-08-23T13:09:33.106011Z",
     "shell.execute_reply": "2020-08-23T13:09:33.106579Z"
    },
    "id": "iCU1zD69wnZc",
    "papermill": {
     "duration": 2.873586,
     "end_time": "2020-08-23T13:09:33.106750",
     "exception": false,
     "start_time": "2020-08-23T13:09:30.233164",
     "status": "completed"
    },
    "tags": []
   },
   "outputs": [],
   "source": [
    "model.load_weights('best_model.hdf5')\n",
    "pred = model.predict(X_test)\n",
    "pred = np.argmax(pred, axis = 2)"
   ]
  },
  {
   "cell_type": "code",
   "execution_count": null,
   "metadata": {
    "execution": {
     "iopub.execute_input": "2020-08-23T13:09:33.184905Z",
     "iopub.status.busy": "2020-08-23T13:09:33.183144Z",
     "iopub.status.idle": "2020-08-23T13:09:33.210980Z",
     "shell.execute_reply": "2020-08-23T13:09:33.210244Z"
    },
    "id": "-jmvNUcmwnZd",
    "papermill": {
     "duration": 0.072633,
     "end_time": "2020-08-23T13:09:33.211127",
     "exception": false,
     "start_time": "2020-08-23T13:09:33.138494",
     "status": "completed"
    },
    "tags": []
   },
   "outputs": [],
   "source": [
    "for i in range(y_test.shape[0]):\n",
    "    print('Prediction:\\t', pred[i] + 1)\n",
    "    print('GoundTruth:\\t', y_test[i] + 1)\n",
    "    print('-' * 40)"
   ]
  },
  {
   "cell_type": "markdown",
   "metadata": {
    "id": "T6V7D51gwnZd",
    "papermill": {
     "duration": 0.031959,
     "end_time": "2020-08-23T13:09:33.294741",
     "exception": false,
     "start_time": "2020-08-23T13:09:33.262782",
     "status": "completed"
    },
    "tags": []
   },
   "source": [
    "# Predict the Future Draw on 2020/Aug/26\n",
    "The Beam Search method is use to output 10 possible draws.\n",
    "It is worth noting that Replace = False means no duplicate balls."
   ]
  },
  {
   "cell_type": "code",
   "execution_count": null,
   "metadata": {
    "execution": {
     "iopub.execute_input": "2020-08-23T13:09:33.363851Z",
     "iopub.status.busy": "2020-08-23T13:09:33.363214Z",
     "iopub.status.idle": "2020-08-23T13:09:33.370096Z",
     "shell.execute_reply": "2020-08-23T13:09:33.369562Z"
    },
    "id": "l_Hui_OVwnZd",
    "papermill": {
     "duration": 0.044307,
     "end_time": "2020-08-23T13:09:33.370199",
     "exception": false,
     "start_time": "2020-08-23T13:09:33.325892",
     "status": "completed"
    },
    "tags": []
   },
   "outputs": [],
   "source": [
    "X_latest = X_test[-1][1:]\n",
    "X_latest = np.concatenate([X_latest, y_test[-1].reshape(1, 7)], axis = 0)\n",
    "X_latest = X_latest.reshape(1, X_latest.shape[0], X_latest.shape[1])\n",
    "print(X_latest + 1)"
   ]
  },
  {
   "cell_type": "code",
   "execution_count": null,
   "metadata": {
    "execution": {
     "iopub.execute_input": "2020-08-23T13:09:33.443149Z",
     "iopub.status.busy": "2020-08-23T13:09:33.442573Z",
     "iopub.status.idle": "2020-08-23T13:09:33.446603Z",
     "shell.execute_reply": "2020-08-23T13:09:33.446115Z"
    },
    "id": "CQ6X0zMhwnZd",
    "papermill": {
     "duration": 0.045415,
     "end_time": "2020-08-23T13:09:33.446699",
     "exception": false,
     "start_time": "2020-08-23T13:09:33.401284",
     "status": "completed"
    },
    "tags": []
   },
   "outputs": [],
   "source": [
    "# beam search\n",
    "def beam_search_decoder(data, k, replace = True):\n",
    "    sequences = [[list(), 0.0]]\n",
    "    # walk over each step in sequence\n",
    "    for row in data:\n",
    "        all_candidates = list()\n",
    "        # expand each current candidate\n",
    "        for i in range(len(sequences)):\n",
    "            seq, score = sequences[i]\n",
    "            best_k = np.argsort(row)[-k:]\n",
    "            for j in best_k:\n",
    "                candidate = [seq + [j], score + math.log(row[j])]\n",
    "                if replace:\n",
    "                    all_candidates.append(candidate)\n",
    "                elif (replace == False) and (len(set(candidate[0])) == len(candidate[0])):\n",
    "                    all_candidates.append(candidate)\n",
    "        # order all candidates by score\n",
    "        ordered = sorted(all_candidates, key = lambda tup:tup[1], reverse = True)\n",
    "        # select k best\n",
    "        sequences = ordered[:k]\n",
    "    return sequences"
   ]
  },
  {
   "cell_type": "code",
   "execution_count": null,
   "metadata": {
    "execution": {
     "iopub.execute_input": "2020-08-23T13:09:33.514546Z",
     "iopub.status.busy": "2020-08-23T13:09:33.513725Z",
     "iopub.status.idle": "2020-08-23T13:09:33.563642Z",
     "shell.execute_reply": "2020-08-23T13:09:33.564234Z"
    },
    "id": "L6TWu3LWwnZd",
    "papermill": {
     "duration": 0.086547,
     "end_time": "2020-08-23T13:09:33.564401",
     "exception": false,
     "start_time": "2020-08-23T13:09:33.477854",
     "status": "completed"
    },
    "tags": []
   },
   "outputs": [],
   "source": [
    "pred_latest = model.predict(X_latest)\n",
    "pred_latest = np.squeeze(pred_latest)\n",
    "pred_latest_greedy = np.argmax(pred_latest, axis = 1)\n",
    "print(pred_latest_greedy + 1)"
   ]
  },
  {
   "cell_type": "code",
   "execution_count": null,
   "metadata": {
    "execution": {
     "iopub.execute_input": "2020-08-23T13:09:33.641236Z",
     "iopub.status.busy": "2020-08-23T13:09:33.640346Z",
     "iopub.status.idle": "2020-08-23T13:09:33.649735Z",
     "shell.execute_reply": "2020-08-23T13:09:33.650180Z"
    },
    "id": "b0cwpw3ywnZe",
    "papermill": {
     "duration": 0.05328,
     "end_time": "2020-08-23T13:09:33.650333",
     "exception": false,
     "start_time": "2020-08-23T13:09:33.597053",
     "status": "completed"
    },
    "tags": []
   },
   "outputs": [],
   "source": [
    "beam_width = 10\n",
    "replace = True\n",
    "\n",
    "result = beam_search_decoder(pred_latest, beam_width, replace)\n",
    "print('Beam Width:\\t', beam_width)\n",
    "print('Replace:\\t', replace)\n",
    "print('-' * 85)\n",
    "for seq in result:\n",
    "    print('Prediction: ', np.array(seq[0]) + 1, '\\tLog Likelihood: ', seq[1])"
   ]
  },
  {
   "cell_type": "code",
   "execution_count": null,
   "metadata": {
    "execution": {
     "iopub.execute_input": "2020-08-23T13:09:33.726351Z",
     "iopub.status.busy": "2020-08-23T13:09:33.722533Z",
     "iopub.status.idle": "2020-08-23T13:09:33.734573Z",
     "shell.execute_reply": "2020-08-23T13:09:33.735252Z"
    },
    "id": "7l_HHfiFwnZe",
    "papermill": {
     "duration": 0.052938,
     "end_time": "2020-08-23T13:09:33.735472",
     "exception": false,
     "start_time": "2020-08-23T13:09:33.682534",
     "status": "completed"
    },
    "tags": []
   },
   "outputs": [],
   "source": [
    "beam_width = 10\n",
    "replace = False\n",
    "\n",
    "result = beam_search_decoder(pred_latest, beam_width, replace)\n",
    "print('Beam Width:\\t', beam_width)\n",
    "print('Replace:\\t', replace)\n",
    "print('-' * 85)\n",
    "for seq in result:\n",
    "    print('Prediction: ', np.array(seq[0]) + 1, '\\tLog Likelihood: ', seq[1])"
   ]
  },
  {
   "cell_type": "code",
   "execution_count": null,
   "metadata": {
    "id": "4VJ95-Ur1NSt"
   },
   "outputs": [],
   "source": []
  }
 ],
 "metadata": {
  "accelerator": "GPU",
  "colab": {
   "collapsed_sections": [],
   "name": "lotto_prediction.ipynb",
   "provenance": []
  },
  "kernelspec": {
   "display_name": "Python 3",
   "language": "python",
   "name": "python3"
  },
  "language_info": {
   "codemirror_mode": {
    "name": "ipython",
    "version": 3
   },
   "file_extension": ".py",
   "mimetype": "text/x-python",
   "name": "python",
   "nbconvert_exporter": "python",
   "pygments_lexer": "ipython3",
   "version": "3.8.5"
  },
  "papermill": {
   "duration": 118.946501,
   "end_time": "2020-08-23T13:09:35.683006",
   "environment_variables": {},
   "exception": null,
   "input_path": "__notebook__.ipynb",
   "output_path": "__notebook__.ipynb",
   "parameters": {},
   "start_time": "2020-08-23T13:07:36.736505",
   "version": "2.1.0"
  }
 },
 "nbformat": 4,
 "nbformat_minor": 1
}
